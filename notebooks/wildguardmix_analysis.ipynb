{
 "cells": [
  {
   "cell_type": "markdown",
   "id": "ebd61edb",
   "metadata": {},
   "source": [
    "# WildGuardMix Dataset Analysis\n",
    "\n",
    "This notebook explores the `allenai/wildguardmix` dataset from HuggingFace.\n",
    "\n",
    "Dataset: https://huggingface.co/datasets/allenai/wildguardmix"
   ]
  },
  {
   "cell_type": "markdown",
   "id": "73ae1de3",
   "metadata": {},
   "source": [
    "## 1. Load Environment Variables and Import Libraries"
   ]
  },
  {
   "cell_type": "code",
   "execution_count": null,
   "id": "08dd3c93",
   "metadata": {},
   "outputs": [],
   "source": [
    "# Import libraries\n",
    "import intention_jailbreak  # This will load environment variables\n",
    "import pandas as pd\n",
    "import matplotlib.pyplot as plt\n",
    "import seaborn as sns\n",
    "from datasets import load_dataset\n",
    "\n",
    "# Set plotting style\n",
    "sns.set_style(\"whitegrid\")\n",
    "plt.rcParams['figure.figsize'] = (12, 6)\n",
    "\n",
    "print(\"Libraries loaded successfully!\")\n",
    "print(f\"intention_jailbreak version: {intention_jailbreak.__version__}\")"
   ]
  },
  {
   "cell_type": "markdown",
   "id": "dbf98e7c",
   "metadata": {},
   "source": [
    "## 2. Load the WildGuardMix Dataset"
   ]
  },
  {
   "cell_type": "code",
   "execution_count": null,
   "id": "3a57b873",
   "metadata": {},
   "outputs": [],
   "source": [
    "# Load the dataset from HuggingFace\n",
    "print(\"Loading WildGuardMix dataset...\")\n",
    "dataset = load_dataset(\"allenai/wildguardmix\")\n",
    "print(\"Dataset loaded successfully!\")\n",
    "print(f\"\\nDataset object: {dataset}\")"
   ]
  },
  {
   "cell_type": "markdown",
   "id": "eb3ca2e7",
   "metadata": {},
   "source": [
    "## 3. Dataset Structure and Basic Information"
   ]
  },
  {
   "cell_type": "code",
   "execution_count": null,
   "id": "4e4586b2",
   "metadata": {},
   "outputs": [],
   "source": [
    "# Display dataset splits and sizes\n",
    "print(\"Dataset Splits:\")\n",
    "for split_name in dataset.keys():\n",
    "    split_size = len(dataset[split_name])\n",
    "    print(f\"  {split_name}: {split_size:,} examples\")\n",
    "\n",
    "# Get the train split for further exploration\n",
    "train_data = dataset['train'] if 'train' in dataset else dataset[list(dataset.keys())[0]]\n",
    "\n",
    "print(f\"\\nDataset Features/Columns:\")\n",
    "print(train_data.features)\n",
    "\n",
    "print(f\"\\nColumn Names: {train_data.column_names}\")"
   ]
  },
  {
   "cell_type": "markdown",
   "id": "f5ff9163",
   "metadata": {},
   "source": [
    "## 4. Explore Dataset Features and Sample Data"
   ]
  },
  {
   "cell_type": "code",
   "execution_count": null,
   "id": "9906f5ac",
   "metadata": {},
   "outputs": [],
   "source": [
    "# Convert to pandas for easier exploration\n",
    "df = train_data.to_pandas()\n",
    "\n",
    "print(f\"DataFrame Shape: {df.shape}\")\n",
    "print(f\"\\nFirst few rows:\")\n",
    "df.head()"
   ]
  },
  {
   "cell_type": "code",
   "execution_count": null,
   "id": "9d3b6c33",
   "metadata": {},
   "outputs": [],
   "source": [
    "# Display data types and info\n",
    "print(\"Data Types and Non-Null Counts:\")\n",
    "df.info()"
   ]
  }
 ],
 "metadata": {
  "kernelspec": {
   "display_name": "intention-jailbreak",
   "language": "python",
   "name": "python3"
  },
  "language_info": {
   "name": "python",
   "version": "3.13.6"
  }
 },
 "nbformat": 4,
 "nbformat_minor": 5
}
